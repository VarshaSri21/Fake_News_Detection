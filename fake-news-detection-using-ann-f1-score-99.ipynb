{
 "cells": [
  {
   "cell_type": "markdown",
   "metadata": {},
   "source": [
    "# **Data Preparation:**\n",
    "Data set is read. Is_True comumn is added, which will be used as dependent variable. \"title\" and \"text\" columns are combined to get maximum data.\n"
   ]
  },
  {
   "cell_type": "code",
   "execution_count": 3,
   "metadata": {},
   "outputs": [
    {
     "data": {
      "text/html": [
       "<div>\n",
       "<style scoped>\n",
       "    .dataframe tbody tr th:only-of-type {\n",
       "        vertical-align: middle;\n",
       "    }\n",
       "\n",
       "    .dataframe tbody tr th {\n",
       "        vertical-align: top;\n",
       "    }\n",
       "\n",
       "    .dataframe thead th {\n",
       "        text-align: right;\n",
       "    }\n",
       "</style>\n",
       "<table border=\"1\" class=\"dataframe\">\n",
       "  <thead>\n",
       "    <tr style=\"text-align: right;\">\n",
       "      <th></th>\n",
       "      <th>title</th>\n",
       "      <th>text</th>\n",
       "      <th>subject</th>\n",
       "      <th>date</th>\n",
       "      <th>Is_True</th>\n",
       "      <th>Full_Content</th>\n",
       "    </tr>\n",
       "  </thead>\n",
       "  <tbody>\n",
       "    <tr>\n",
       "      <th>15991</th>\n",
       "      <td>McMaster Gave Susan Rice Continued Access To C...</td>\n",
       "      <td>This very important scandal is unfolding befor...</td>\n",
       "      <td>Government News</td>\n",
       "      <td>Aug 3, 2017</td>\n",
       "      <td>0</td>\n",
       "      <td>McMaster Gave Susan Rice Continued Access To C...</td>\n",
       "    </tr>\n",
       "    <tr>\n",
       "      <th>16839</th>\n",
       "      <td>U.N. torture watchdog ends trip to Rwanda, cit...</td>\n",
       "      <td>KIGALI (Reuters) - The U.N. subcommittee on to...</td>\n",
       "      <td>worldnews</td>\n",
       "      <td>October 21, 2017</td>\n",
       "      <td>1</td>\n",
       "      <td>U.N. torture watchdog ends trip to Rwanda, cit...</td>\n",
       "    </tr>\n",
       "  </tbody>\n",
       "</table>\n",
       "</div>"
      ],
      "text/plain": [
       "                                                   title  \\\n",
       "15991  McMaster Gave Susan Rice Continued Access To C...   \n",
       "16839  U.N. torture watchdog ends trip to Rwanda, cit...   \n",
       "\n",
       "                                                    text          subject  \\\n",
       "15991  This very important scandal is unfolding befor...  Government News   \n",
       "16839  KIGALI (Reuters) - The U.N. subcommittee on to...        worldnews   \n",
       "\n",
       "                    date  Is_True  \\\n",
       "15991        Aug 3, 2017        0   \n",
       "16839  October 21, 2017         1   \n",
       "\n",
       "                                            Full_Content  \n",
       "15991  McMaster Gave Susan Rice Continued Access To C...  \n",
       "16839  U.N. torture watchdog ends trip to Rwanda, cit...  "
      ]
     },
     "execution_count": 3,
     "metadata": {},
     "output_type": "execute_result"
    }
   ],
   "source": [
    "import pandas as pd\n",
    "\n",
    "dataset_fake = pd.read_csv('E:/DOC US/Clark/Fall 2022/SW/Final Paper/datasets/Fake.csv')\n",
    "dataset_true = pd.read_csv('E:/DOC US/Clark/Fall 2022/SW/Final Paper/datasets/True.csv')\n",
    "\n",
    "dataset_fake[\"Is_True\"]=0\n",
    "dataset_true[\"Is_True\"]=1\n",
    "\n",
    "dataset = pd.concat([dataset_fake,dataset_true]) #Merging the 2 datasets\n",
    "\n",
    "dataset[\"Full_Content\"] = dataset['title']+ \" \" + dataset['text']\n",
    "\n",
    "dataset.sample(2)\n"
   ]
  },
  {
   "cell_type": "code",
   "execution_count": null,
   "metadata": {},
   "outputs": [],
   "source": [
    "# Cleaning the texts\n",
    "import re\n",
    "import nltk\n",
    "#nltk.download()\n",
    "#nltk.download('stopwords')\n",
    "from nltk.corpus import stopwords\n",
    "from nltk.stem.porter import PorterStemmer\n",
    "from nltk.corpus import stopwords"
   ]
  },
  {
   "cell_type": "code",
   "execution_count": null,
   "metadata": {},
   "outputs": [],
   "source": [
    "def simplify_text(string):\n",
    "    review = re.sub('[^a-zA-Z]', ' ', string)\n",
    "    review = review.lower()\n",
    "    review = review.split()\n",
    "    ps = PorterStemmer()\n",
    "    review = [ps.stem(word) for word in review if not word in set(stopwords.words('english'))]\n",
    "    review = ' '.join(review)\n",
    "    return(string)\n",
    "    "
   ]
  },
  {
   "cell_type": "markdown",
   "metadata": {},
   "source": [
    "# **Data Cleaning :**\n",
    "Data is cleaned to remove noise."
   ]
  },
  {
   "cell_type": "code",
   "execution_count": null,
   "metadata": {},
   "outputs": [],
   "source": [
    "\n",
    "\n",
    "\n",
    "\n",
    "    \n",
    "dataset['Full_Content_New']=dataset['Full_Content'].apply(simplify_text)\n",
    "print(\"Concat Done\")"
   ]
  },
  {
   "cell_type": "markdown",
   "metadata": {},
   "source": [
    "# **Feature Extraction : **\n",
    "Using Bag of Words Model, important features are extacted.\n"
   ]
  },
  {
   "cell_type": "markdown",
   "metadata": {},
   "source": [
    "# **Dataset Split : **\n",
    "Data set is devided into training, validation and test sets."
   ]
  },
  {
   "cell_type": "code",
   "execution_count": null,
   "metadata": {},
   "outputs": [],
   "source": [
    "features=3000\n",
    "# Creating the Bag of Words model\n",
    "from sklearn.feature_extraction.text import CountVectorizer\n",
    "cv = CountVectorizer(max_features = features)\n",
    "X = cv.fit_transform(dataset['Full_Content_New'])\n",
    "y = dataset.iloc[:,4].values\n",
    "\n",
    "# Splitting the dataset into the Training set, Validation set and Test set\n",
    "from sklearn.model_selection import train_test_split\n",
    "X_train, X_test, y_train, y_test = train_test_split(X, y, test_size = 0.30, random_state = 0)\n",
    "X_test1, X_test2, y_test1, y_test2 = train_test_split(X_test, y_test, test_size = 0.50, random_state = 0)\n",
    "\n",
    "print(\"Split done\")"
   ]
  },
  {
   "cell_type": "markdown",
   "metadata": {},
   "source": [
    "# Neural Network Training and Prediction Step:\n",
    "\n",
    "Here neutal network with one hidden layer is used with binary_crossentropy as loss function."
   ]
  },
  {
   "cell_type": "code",
   "execution_count": null,
   "metadata": {},
   "outputs": [],
   "source": [
    "import keras\n",
    "from keras.models import Sequential\n",
    "from keras.layers import Dense\n",
    "from keras.optimizers import Adam\n",
    "\n",
    "# Initialising the ANN\n",
    "model = Sequential()\n",
    "\n",
    "# Adding the input layer and the first hidden layer\n",
    "model.add(Dense(features, kernel_initializer='uniform',activation = 'relu', input_dim = features))\n",
    "   \n",
    "# Adding the output layer\n",
    "model.add(Dense(1,kernel_initializer='uniform',activation = 'sigmoid'))\n",
    "\n",
    "# Compiling the ANN\n",
    "model.compile(optimizer = 'adam', loss = 'binary_crossentropy', metrics = ['accuracy'])\n",
    "\n",
    "history = model.fit(X_train.toarray(), y_train, batch_size = 500, epochs = 12, validation_data=(X_test1.toarray(), y_test1))\n",
    "\n",
    "# Get training and validation loss histories\n",
    "train_loss = history.history['loss']\n",
    "validation_loss = history.history['val_loss']\n",
    "\n",
    "# Create count of the number of epochs\n",
    "epoch_count = range(1, len(train_loss) + 1)\n",
    "\n",
    "import matplotlib.pyplot as plt\n",
    "# Visualize loss history\n",
    "plt.plot(epoch_count, train_loss, 'r--')\n",
    "#plt.plot(epoch_count, accuracy_val, 'b-')\n",
    "plt.plot(epoch_count, validation_loss, 'g--')\n",
    "plt.legend(['Training Loss', 'Validation Loss'])\n",
    "plt.xlabel('Epoch')\n",
    "plt.ylabel('Loss')\n",
    "plt.show();\n",
    "\n",
    "\n",
    "# Predicting the Test set results\n",
    "y_pred = model.predict(X_test2.toarray())\n",
    "y_pred = (y_pred > 0.5)\n",
    "\n",
    "print(\"--------------------------------------------\")\n",
    "print(\"Printing classification_report for Test Set\")    \n",
    "from sklearn.metrics import classification_report\n",
    "print (classification_report(y_test2, y_pred))\n",
    "print(\"--------------------------------------------\")\n",
    "\n"
   ]
  },
  {
   "cell_type": "markdown",
   "metadata": {},
   "source": [
    "# Conclusion:\n",
    "It is obseved that we get good performance for batch_size = 500, epochs = 12.\n",
    "With these parameters we can see that F1 score using this model is >0.99 on test data."
   ]
  }
 ],
 "metadata": {
  "kernelspec": {
   "display_name": "Python 3 (ipykernel)",
   "language": "python",
   "name": "python3"
  },
  "language_info": {
   "codemirror_mode": {
    "name": "ipython",
    "version": 3
   },
   "file_extension": ".py",
   "mimetype": "text/x-python",
   "name": "python",
   "nbconvert_exporter": "python",
   "pygments_lexer": "ipython3",
   "version": "3.9.12"
  }
 },
 "nbformat": 4,
 "nbformat_minor": 4
}
